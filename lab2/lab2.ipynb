{
 "cells": [
  {
   "cell_type": "code",
   "execution_count": 25,
   "metadata": {
    "scrolled": true
   },
   "outputs": [
    {
     "name": "stdout",
     "output_type": "stream",
     "text": [
      "Train on 60000 samples, validate on 10000 samples\n",
      "Epoch 1/10\n",
      "60000/60000 [==============================] - 74s 1ms/sample - loss: 0.6160 - accuracy: 0.7888 - val_loss: 0.5139 - val_accuracy: 0.8167\n",
      "Epoch 2/10\n",
      "60000/60000 [==============================] - 44s 736us/sample - loss: 0.4684 - accuracy: 0.8349 - val_loss: 0.4923 - val_accuracy: 0.8266\n",
      "Epoch 3/10\n",
      "60000/60000 [==============================] - 39s 646us/sample - loss: 0.4381 - accuracy: 0.8446 - val_loss: 0.4725 - val_accuracy: 0.8341\n",
      "Epoch 4/10\n",
      "60000/60000 [==============================] - 39s 647us/sample - loss: 0.4176 - accuracy: 0.8519 - val_loss: 0.4683 - val_accuracy: 0.8318\n",
      "Epoch 5/10\n",
      "60000/60000 [==============================] - 39s 647us/sample - loss: 0.4046 - accuracy: 0.8559 - val_loss: 0.4396 - val_accuracy: 0.8430\n",
      "Epoch 6/10\n",
      "60000/60000 [==============================] - 39s 651us/sample - loss: 0.3902 - accuracy: 0.8607 - val_loss: 0.4994 - val_accuracy: 0.8236\n",
      "Epoch 7/10\n",
      "60000/60000 [==============================] - 41s 690us/sample - loss: 0.3813 - accuracy: 0.8639 - val_loss: 0.4463 - val_accuracy: 0.8354\n",
      "Epoch 8/10\n",
      "60000/60000 [==============================] - 45s 752us/sample - loss: 0.3696 - accuracy: 0.8667 - val_loss: 0.3961 - val_accuracy: 0.8597\n",
      "Epoch 9/10\n",
      "60000/60000 [==============================] - 42s 692us/sample - loss: 0.3632 - accuracy: 0.8704 - val_loss: 0.4013 - val_accuracy: 0.8562\n",
      "Epoch 10/10\n",
      "60000/60000 [==============================] - 43s 723us/sample - loss: 0.3562 - accuracy: 0.8714 - val_loss: 0.3948 - val_accuracy: 0.8601\n",
      "\n",
      "Train time:  445.7084174156189\n",
      "10000/1 - 4s - loss: 0.3012 - accuracy: 0.8601\n",
      "\n",
      "Test accuracy: 0.8601\n",
      "\n",
      "Test loss:  0.3947699177026749\n",
      "\n",
      "Test time:  4.4080729484558105\n"
     ]
    },
    {
     "data": {
      "image/png": "[encoded data removed]",
      "text/plain": [
       "<Figure size 432x288 with 1 Axes>"
      ]
     },
     "metadata": {
      "needs_background": "light"
     },
     "output_type": "display_data"
    }
   ],
   "source": [
    "from __future__ import absolute_import, division, print_function, unicode_literals\n",
    "\n",
    "import tensorflow as tf\n",
    "from tensorflow import keras\n",
    "\n",
    "import numpy as np\n",
    "import matplotlib.pyplot as plt\n",
    "from tensorflow.keras.optimizers import SGD\n",
    "from time import time\n",
    "\n",
    "def main() :  \n",
    "    \n",
    "    #load db\n",
    "    fashion_mnist = keras.datasets.fashion_mnist\n",
    "    (train_images, train_labels), (test_images, test_labels) = fashion_mnist.load_data()\n",
    "    \n",
    "\n",
    "    learning_rate = 0.1\n",
    "    batch_size = 128\n",
    "\n",
    "\n",
    "    \n",
    "    #SCALE THIS data DURING 0 AND 1\n",
    "    train_images = train_images / 255.0\n",
    "    test_images = test_images / 255.0\n",
    "    \n",
    "    #create model\n",
    "    model = keras.Sequential([\n",
    "        keras.layers.Flatten(input_shape=(28, 28)),\n",
    "        keras.layers.Dense(512, activation='elu'),\n",
    "        #keras.layers.Dense(512, activation='elu'),\n",
    "        keras.layers.Dense(10, activation='softmax')\n",
    "    ])\n",
    "\n",
    "    sgd = keras.optimizers.SGD(learning_rate)\n",
    "    #compile model\n",
    "    model.compile(optimizer=sgd, loss = 'sparse_categorical_crossentropy', metrics=['accuracy'])\n",
    "    \n",
    "    #learn model\n",
    "    start = time()\n",
    "    history = model.fit(train_images, train_labels, validation_data = (test_images, test_labels),  epochs=10, batch_size= 128)\n",
    "    train_time = time() - start\n",
    "    print('\\nTrain time: ', train_time)\n",
    "    \n",
    "    start = time()\n",
    "    test_loss, test_acc = model.evaluate(test_images, test_labels, verbose=2)\n",
    "    test_time = time() - start\n",
    "    print('\\nTest accuracy:', test_acc)\n",
    "    print('\\nTest loss: ', test_loss)\n",
    "    print('\\nTest time: ', test_time)\n",
    "    \n",
    "\n",
    "    \n",
    "    plt.plot(history.history['accuracy'], label='train accuracy')\n",
    "    plt.plot(history.history['val_accuracy'], label='test accuracy')\n",
    "    plt.xlabel('Epochs')\n",
    "    plt.ylabel('Accuracy')\n",
    "    plt.legend()\n",
    "    plt.show()\n",
    "    \n",
    "\n",
    "if __name__ == '__main__':\n",
    "    main()\n"
   ]
  },
  {
   "cell_type": "code",
   "execution_count": null,
   "metadata": {},
   "outputs": [],
   "source": []
  }
 ],
 "metadata": {
  "kernelspec": {
   "display_name": "Python 3",
   "language": "python",
   "name": "python3"
  },
  "language_info": {
   "codemirror_mode": {
    "name": "ipython",
    "version": 3
   },
   "file_extension": ".py",
   "mimetype": "text/x-python",
   "name": "python",
   "nbconvert_exporter": "python",
   "pygments_lexer": "ipython3",
   "version": "3.7.4"
  }
 },
 "nbformat": 4,
 "nbformat_minor": 2
}
